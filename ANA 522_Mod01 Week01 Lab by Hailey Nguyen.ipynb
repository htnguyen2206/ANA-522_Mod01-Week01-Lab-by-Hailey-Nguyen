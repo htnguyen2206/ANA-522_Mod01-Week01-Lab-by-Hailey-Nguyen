{
 "cells": [
  {
   "cell_type": "code",
   "execution_count": 3,
   "id": "b5345186-22c6-4a14-9276-6088f2099939",
   "metadata": {},
   "outputs": [
    {
     "name": "stdout",
     "output_type": "stream",
     "text": [
      "Hailey Nguyen\n",
      "Mailing Address: Conway, Arkansas\n"
     ]
    }
   ],
   "source": [
    "# Mod01_Lab 1: Mailing Address\n",
    "print('Hailey Nguyen')\n",
    "print('Mailing Address: Conway, Arkansas')"
   ]
  },
  {
   "cell_type": "code",
   "execution_count": 4,
   "id": "83e728fe-3781-4527-b94c-99ea865f213f",
   "metadata": {},
   "outputs": [
    {
     "name": "stdout",
     "output_type": "stream",
     "text": [
      "200\n"
     ]
    }
   ],
   "source": [
    "# Mod01_Lab 2: Area of a Room\n",
    "width = 10\n",
    "length = 20\n",
    "area = width*length\n",
    "print(area)"
   ]
  },
  {
   "cell_type": "code",
   "execution_count": 9,
   "id": "a161629f-e8a9-484d-b4c0-678614502503",
   "metadata": {},
   "outputs": [
    {
     "name": "stdout",
     "output_type": "stream",
     "text": [
      "12 8 20 5 0 100\n"
     ]
    }
   ],
   "source": [
    "# Mod01_Lab 3: Arithmetic Operations using Binary Operator\n",
    "a = 10\n",
    "b = 2\n",
    "sum = a+b\n",
    "dif = a-b\n",
    "prod = a*b\n",
    "quote = a//b\n",
    "remainder = a%b\n",
    "ra = a**b\n",
    "print(sum, dif, prod, quote, remainder,ra)"
   ]
  },
  {
   "cell_type": "code",
   "execution_count": 14,
   "id": "d6d75363-2407-498a-bae1-035849f13068",
   "metadata": {},
   "outputs": [
    {
     "name": "stdout",
     "output_type": "stream",
     "text": [
      "a is an odd number\n"
     ]
    }
   ],
   "source": [
    "#  Mod01_Lab 4: Even or Odd\n",
    "a = 101\n",
    "if (a%2)==0:\n",
    "    print('a is an even number')\n",
    "else:\n",
    "    print('a is an odd number')\n"
   ]
  },
  {
   "cell_type": "code",
   "execution_count": 16,
   "id": "1b384e15-7fc1-47b7-8a3a-53970b2b0f2e",
   "metadata": {},
   "outputs": [
    {
     "name": "stdin",
     "output_type": "stream",
     "text": [
      "Input a letter of the alphabet:  a\n"
     ]
    },
    {
     "name": "stdout",
     "output_type": "stream",
     "text": [
      "a is a vowel.\n"
     ]
    }
   ],
   "source": [
    "# Mod01_Lab 5:Vowel or Consonant\n",
    "al = input(\"Input a letter of the alphabet: \")\n",
    "\n",
    "if al in ('a', 'e', 'i', 'o', 'u'):\n",
    "    print(\"%s is a vowel.\" % al)\n",
    "elif al == 'y':\n",
    "    print(\"Sometimes letter y stand for vowel, sometimes stand for consonant.\")\n",
    "else:\n",
    "    print(\"%s is a consonant.\" % al) "
   ]
  },
  {
   "cell_type": "code",
   "execution_count": 22,
   "id": "a8bb5324-51c6-42ab-b785-629189e489c2",
   "metadata": {},
   "outputs": [
    {
     "name": "stdout",
     "output_type": "stream",
     "text": [
      "Input some integers to calculate their sum and average. Input 0 to exit.\n"
     ]
    },
    {
     "name": "stdin",
     "output_type": "stream",
     "text": [
      " 123456\n",
      " 0\n"
     ]
    },
    {
     "name": "stdout",
     "output_type": "stream",
     "text": [
      "Average and Sum of the above numbers are:  123456.0 123456.0\n"
     ]
    }
   ],
   "source": [
    "# Mod01_Lab 6: Average\n",
    "print(\"Input some integers to calculate their sum and average. Input 0 to exit.\")\n",
    "\n",
    "count = 0\n",
    "sum = 0.0\n",
    "number = 1\n",
    "\n",
    "while number != 0:\n",
    "\tnumber = int(input(\"\"))\n",
    "\tsum = sum + number\n",
    "\tcount += 1\n",
    "\n",
    "if count == 0:\n",
    "\tprint(\"Input some numbers\")\n",
    "else:\n",
    "\tprint(\"Average and Sum of the above numbers are: \", sum / (count-1), sum)\n",
    "\t"
   ]
  },
  {
   "cell_type": "code",
   "execution_count": 24,
   "id": "9138bf24-6c05-4dd1-9e20-ea635fd91c99",
   "metadata": {},
   "outputs": [
    {
     "name": "stdin",
     "output_type": "stream",
     "text": [
      "Please enter a positive integer between 1 and 10:  9\n"
     ]
    },
    {
     "name": "stdout",
     "output_type": "stream",
     "text": [
      "  1   2   3   4   5   6   7   8   9\n",
      "  2   4   6   8  10  12  14  16  18\n",
      "  3   6   9  12  15  18  21  24  27\n",
      "  4   8  12  16  20  24  28  32  36\n",
      "  5  10  15  20  25  30  35  40  45\n",
      "  6  12  18  24  30  36  42  48  54\n",
      "  7  14  21  28  35  42  49  56  63\n",
      "  8  16  24  32  40  48  56  64  72\n",
      "  9  18  27  36  45  54  63  72  81\n"
     ]
    }
   ],
   "source": [
    "# Mod01_Lab 7: Multiplication Table\n",
    "n=int(input('Please enter a positive integer between 1 and 10: '))\n",
    "for row in range(1,n+1):\n",
    "    print(*(\"{:3}\".format(row*col) for col in range(1, n+1)))"
   ]
  },
  {
   "cell_type": "code",
   "execution_count": null,
   "id": "c32e8c71-40c8-46f5-a38e-ede6722b0a57",
   "metadata": {},
   "outputs": [],
   "source": []
  }
 ],
 "metadata": {
  "kernelspec": {
   "display_name": "ANA522 (default)",
   "language": "python",
   "name": "ada522"
  },
  "language_info": {
   "codemirror_mode": {
    "name": "ipython",
    "version": 3
   },
   "file_extension": ".py",
   "mimetype": "text/x-python",
   "name": "python",
   "nbconvert_exporter": "python",
   "pygments_lexer": "ipython3",
   "version": "3.8.5"
  }
 },
 "nbformat": 4,
 "nbformat_minor": 5
}
